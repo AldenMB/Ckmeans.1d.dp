{
 "cells": [
  {
   "cell_type": "code",
   "execution_count": 1,
   "id": "db67c50d-b446-44fd-98fa-3ec26957c0b6",
   "metadata": {},
   "outputs": [],
   "source": [
    "from ckmeans_1d_dp import ckmeans\n",
    "import numpy as np"
   ]
  },
  {
   "cell_type": "code",
   "execution_count": 2,
   "id": "2b9687b5-a1aa-4c7f-b46b-2b9ce97efef1",
   "metadata": {},
   "outputs": [],
   "source": [
    "x = np.array([[1, 2, 3, 40, 50, -40],\n",
    "              [1, 2, 20, 21, 3, 0],\n",
    "              [100, 100, 100, 4, 5, 1],\n",
    "             ])"
   ]
  },
  {
   "cell_type": "code",
   "execution_count": 3,
   "id": "0e1953ab-8435-4a94-8a6c-97c455c19387",
   "metadata": {},
   "outputs": [],
   "source": [
    "result = ckmeans(x)"
   ]
  },
  {
   "cell_type": "code",
   "execution_count": 4,
   "id": "d74697e2-5805-4877-bacf-55bb702e9ca7",
   "metadata": {},
   "outputs": [
    {
     "data": {
      "text/plain": [
       "array([[1, 1, 1, 2, 2, 0],\n",
       "       [0, 0, 1, 1, 0, 0],\n",
       "       [1, 1, 1, 0, 0, 0]], dtype=int32)"
      ]
     },
     "execution_count": 4,
     "metadata": {},
     "output_type": "execute_result"
    }
   ],
   "source": [
    "result.cluster"
   ]
  },
  {
   "cell_type": "code",
   "execution_count": 5,
   "id": "0675fd8f-5b92-4696-be39-14ac252bb248",
   "metadata": {},
   "outputs": [],
   "source": [
    "z = np.sqrt(np.linspace(0, 2, 80)).reshape(2, 2, 20)"
   ]
  },
  {
   "cell_type": "code",
   "execution_count": 6,
   "id": "ba444620-2539-4891-a765-12a70c55d05b",
   "metadata": {},
   "outputs": [
    {
     "data": {
      "text/plain": [
       "array([[[0, 0, 0, 0, 0, 0, 0, 1, 1, 1, 1, 1, 1, 1, 1, 1, 1, 1, 1, 1],\n",
       "        [0, 0, 0, 0, 0, 0, 0, 0, 0, 1, 1, 1, 1, 1, 1, 1, 1, 1, 1, 1]],\n",
       "\n",
       "       [[0, 0, 0, 0, 0, 0, 0, 0, 0, 0, 1, 1, 1, 1, 1, 1, 1, 1, 1, 1],\n",
       "        [0, 0, 0, 0, 0, 0, 0, 0, 0, 0, 1, 1, 1, 1, 1, 1, 1, 1, 1, 1]]],\n",
       "      dtype=int32)"
      ]
     },
     "execution_count": 6,
     "metadata": {},
     "output_type": "execute_result"
    }
   ],
   "source": [
    "resultz = ckmeans(z, k=2)\n",
    "resultz.cluster"
   ]
  },
  {
   "cell_type": "code",
   "execution_count": null,
   "id": "b0c8086a-b173-4c9d-a2fc-de186666d127",
   "metadata": {},
   "outputs": [],
   "source": []
  }
 ],
 "metadata": {
  "kernelspec": {
   "display_name": "ckmeans_dev",
   "language": "python",
   "name": "ckmeans_dev"
  },
  "language_info": {
   "codemirror_mode": {
    "name": "ipython",
    "version": 3
   },
   "file_extension": ".py",
   "mimetype": "text/x-python",
   "name": "python",
   "nbconvert_exporter": "python",
   "pygments_lexer": "ipython3",
   "version": "3.11.0"
  }
 },
 "nbformat": 4,
 "nbformat_minor": 5
}
