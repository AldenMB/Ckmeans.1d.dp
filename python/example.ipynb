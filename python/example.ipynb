{
 "cells": [
  {
   "cell_type": "code",
   "execution_count": 1,
   "id": "60428883-36fb-40b7-849d-dbb2ac2bfd80",
   "metadata": {},
   "outputs": [],
   "source": [
    "from ckmeans_1d_dp import ckmeans"
   ]
  },
  {
   "cell_type": "code",
   "execution_count": 2,
   "id": "37be83ee-068c-4313-8558-b9a3a42fcef8",
   "metadata": {},
   "outputs": [],
   "source": [
    "import numpy as np"
   ]
  },
  {
   "cell_type": "code",
   "execution_count": 3,
   "id": "b7e564b9-1ce5-4a13-a598-050d69e5287d",
   "metadata": {},
   "outputs": [],
   "source": [
    "x = np.array([[1, 2, 3, 40, 50, -40],\n",
    "              [1, 2, 20, 21, 3, 0],\n",
    "              [100, 100, 100, 4, 5, 1],\n",
    "             ])"
   ]
  },
  {
   "cell_type": "code",
   "execution_count": 4,
   "id": "ae07fa34-1482-472c-8be1-30caa1aac42a",
   "metadata": {},
   "outputs": [],
   "source": [
    "result = ckmeans(x)"
   ]
  },
  {
   "cell_type": "code",
   "execution_count": 5,
   "id": "cdde241c-7ac4-478c-9b9b-9b9a492a36b2",
   "metadata": {},
   "outputs": [
    {
     "name": "stdout",
     "output_type": "stream",
     "text": [
      "cluster\n",
      "[[1 1 1 2 2 0]\n",
      " [0 0 1 1 0 0]\n",
      " [1 1 1 0 0 0]]\n",
      "centers\n",
      "[[-40.           2.          45.           0.           0.\n",
      "    0.           0.           0.           0.        ]\n",
      " [  1.5         20.5          0.           0.           0.\n",
      "    0.           0.           0.           0.        ]\n",
      " [  3.33333333 100.           0.           0.           0.\n",
      "    0.           0.           0.           0.        ]]\n",
      "withinss\n",
      "[[ 0.          2.         50.          0.          0.          0.\n",
      "   0.          0.          0.        ]\n",
      " [ 5.          0.5         0.          0.          0.          0.\n",
      "   0.          0.          0.        ]\n",
      " [ 8.66666667  0.          0.          0.          0.          0.\n",
      "   0.          0.          0.        ]]\n",
      "size\n",
      "[[1. 3. 2. 0. 0. 0. 0. 0. 0.]\n",
      " [4. 2. 0. 0. 0. 0. 0. 0. 0.]\n",
      " [3. 3. 0. 0. 0. 0. 0. 0. 0.]]\n",
      "totss\n",
      "[ 865.22222222   81.13888889 2337.55555556]\n",
      "tot_withinss\n",
      "[52.          5.5         8.66666667]\n",
      "betweensss\n",
      "[ 813.22222222   75.63888889 2328.88888889]\n"
     ]
    }
   ],
   "source": [
    "for field, value in result._asdict().items():\n",
    "    print(field)\n",
    "    print(value)"
   ]
  },
  {
   "cell_type": "code",
   "execution_count": null,
   "id": "0584ea4d-5a76-4608-90b1-1ac9c6ac3181",
   "metadata": {},
   "outputs": [],
   "source": []
  }
 ],
 "metadata": {
  "kernelspec": {
   "display_name": "ckmeans_dev",
   "language": "python",
   "name": "ckmeans_dev"
  },
  "language_info": {
   "codemirror_mode": {
    "name": "ipython",
    "version": 3
   },
   "file_extension": ".py",
   "mimetype": "text/x-python",
   "name": "python",
   "nbconvert_exporter": "python",
   "pygments_lexer": "ipython3",
   "version": "3.11.0"
  }
 },
 "nbformat": 4,
 "nbformat_minor": 5
}
